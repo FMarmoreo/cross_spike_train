{
 "cells": [
  {
   "cell_type": "markdown",
   "id": "b05fb05f-d490-4e1c-ad25-dd61cf2a9d61",
   "metadata": {},
   "source": [
    "<font size=\"12\">  Spike train cross-correlation </font>"
   ]
  },
  {
   "cell_type": "markdown",
   "id": "cd67f0c3-721c-481e-a1ea-aab30b0e874a",
   "metadata": {},
   "source": [
    "The Spike cross-correlation script is based on the one available at https://github.com/thierrynieus/cross_corr\n",
    "\n",
    "It takes advantage of sparse matrices operations to speed up calculation.\n",
    "\n",
    "References: \n",
    "\n",
    "    1. Garofalo, M., Nieus, T., Massobrio, P., and Martinoia, S. (2009). Evaluation of the Performance of Information Theory-Based Methods and Cross-Correlation to Estimate the Functional Connectivity in Cortical Networks. PLoS ONE 4, e6482. doi: 10.1371/journal.pone.0006482.\n",
    "    \n",
    "    2. Nieus, T., D’Andrea, V., Amin, H., Di Marco, S., Safaai, H., Maccione, A., et al. (2018). State-dependent representation of stimulus-evoked activity in high-density recordings of neural cultures. Sci Rep 8, 5578. doi: 10.1038/s41598-018-23853-x."
   ]
  },
  {
   "cell_type": "markdown",
   "id": "9dabe8e3-c025-4f89-9373-35e57b2f051b",
   "metadata": {},
   "source": [
    "# Load data and perform some preliminary analysis"
   ]
  },
  {
   "cell_type": "code",
   "execution_count": 1,
   "id": "b1ce5fb0-744d-4b4f-bef7-33d889919200",
   "metadata": {},
   "outputs": [],
   "source": [
    "import numpy as np"
   ]
  },
  {
   "cell_type": "code",
   "execution_count": 2,
   "id": "8b6e0c2b-6825-4916-808d-370a4a7402d8",
   "metadata": {},
   "outputs": [],
   "source": [
    "params = {'dt': 0.5, 'tw': 5, 'tmax': 6e5, 'corr': True}"
   ]
  },
  {
   "cell_type": "code",
   "execution_count": 3,
   "id": "a687c500-38d9-4989-ab0c-003cb16cce60",
   "metadata": {},
   "outputs": [],
   "source": [
    "def load_data(fname_spike_train, update_tmax=True):\n",
    "    \"\"\"Load data.\"\"\"\n",
    "    data = np.load(fname_spike_train, allow_pickle=1)\n",
    "    # convert to list of spike trains\n",
    "    spk_trains = []\n",
    "    id_ch_unique = np.unique(data[0, :])\n",
    "    for id_ch in id_ch_unique:\n",
    "        idx = np.where(data[0, :] == id_ch)[0]\n",
    "        spk_trains.append(data[1, idx])\n",
    "    tmax = np.max(data[1, idx])\n",
    "    if update_tmax:\n",
    "        params['tmax'] = tmax\n",
    "    # id_ch_unique: id <-> (row, column) spatial coordinatesa\n",
    "    return spk_trains, id_ch_unique, tmax\n"
   ]
  },
  {
   "cell_type": "code",
   "execution_count": 4,
   "id": "68e44f5c-b1ef-4ae7-9dd9-69dac6f1b70e",
   "metadata": {},
   "outputs": [],
   "source": [
    "# get the data from the web ... \n",
    "import os\n",
    "\n",
    "if not(os.path.isdir('data')):\n",
    "    print(\"Folder <<data>> created!\")\n",
    "    os.makedirs('data')\n",
    "if not(os.path.isfile('data/data.npy')):\n",
    "    print(\"Transfer data.npy!\")\n",
    "    str_get = \"https://unimi2013-my.sharepoint.com/:u:/g/personal/thierry_nieus_unimi_it/EYxkNBwY_LNNvaYMNoYQMOMBm0EBC-hHMdMMs23KfSVTLg?e=NHjjXA&download=1\"\n",
    "    wget = \"os.system\"\n",
    "    os.system(\"wget --no-check-certificate \\\"%s\\\" -q -O data/data.npy\" % str_get)\n",
    "fn = 'data/data.npy'"
   ]
  },
  {
   "cell_type": "code",
   "execution_count": 5,
   "id": "70b1f01f-fb42-4b66-bd75-4b716e09677a",
   "metadata": {},
   "outputs": [
    {
     "name": "stdout",
     "output_type": "stream",
     "text": [
      "793 spike trains loaded \n",
      "max time of recording (s) 565.398 \n"
     ]
    }
   ],
   "source": [
    "spk_trains_tmp, id_ch_tmp, tmax = load_data(fn)\n",
    "tmax /= 1000 # tmax in seconds\n",
    "print('%d spike trains loaded ' % len(spk_trains_tmp))\n",
    "print('max time of recording (s) %g ' %tmax)"
   ]
  },
  {
   "cell_type": "markdown",
   "id": "e2a36419-b866-401d-8e9c-3352bf268229",
   "metadata": {},
   "source": [
    "## Filter data"
   ]
  },
  {
   "cell_type": "code",
   "execution_count": 6,
   "id": "1dc0d36d-00a9-44d6-a199-d3f3727eb6c5",
   "metadata": {},
   "outputs": [],
   "source": [
    "import pylab as plt"
   ]
  },
  {
   "cell_type": "code",
   "execution_count": 7,
   "id": "e78ac874-e2ee-474f-9e24-47cfe582106c",
   "metadata": {},
   "outputs": [
    {
     "name": "stdout",
     "output_type": "stream",
     "text": [
      "793 spike trains retained \n"
     ]
    }
   ],
   "source": [
    "mfr_min = 0.1 # Hz\n",
    "spk_trains, id_ch = [], []\n",
    "mfr_lst = []\n",
    "for st, ic in zip(spk_trains_tmp, id_ch_tmp):\n",
    "    mfr = len(st) / tmax  # Hz    \n",
    "    if mfr > mfr_min:\n",
    "        # spike train has enough spikes\n",
    "        spk_trains.append(st)\n",
    "        id_ch.append(ic)\n",
    "        mfr_lst.append(mfr)\n",
    "print('%d spike trains retained ' % len(spk_trains)) "
   ]
  },
  {
   "cell_type": "markdown",
   "id": "9fbac870-5412-4239-8963-039a8d43883b",
   "metadata": {},
   "source": [
    "## Report distribution of mean firing rates."
   ]
  },
  {
   "cell_type": "code",
   "execution_count": 8,
   "id": "34de58bb-d50a-41e7-9ba2-cc1191a7d3a6",
   "metadata": {},
   "outputs": [
    {
     "data": {
      "image/png": "[encoded data removed]",
      "text/plain": [
       "<Figure size 640x480 with 1 Axes>"
      ]
     },
     "metadata": {},
     "output_type": "display_data"
    }
   ],
   "source": [
    "plt.boxplot(mfr_lst, whis=[5, 95])\n",
    "plt.xticks([])\n",
    "plt.ylabel('mean firing rate (Hz)', fontsize=12);"
   ]
  },
  {
   "cell_type": "markdown",
   "id": "bd15a09e-ce52-4714-97e6-fdc354c712fe",
   "metadata": {},
   "source": [
    "# Compute spike cross-correlation"
   ]
  },
  {
   "cell_type": "code",
   "execution_count": 38,
   "id": "11fe26dd-32f6-48ad-a58d-dff90487d97a",
   "metadata": {},
   "outputs": [],
   "source": [
    "def format_spike_train(spk_trains):\n",
    "    \"\"\"Format spike trains.\n",
    "\n",
    "    spk_trains  a list of spike trains\n",
    "    \"\"\"\n",
    "    idx_spk_tr, len_spk_tr = [], []\n",
    "    for spk_train in spk_trains:\n",
    "        spk_train_arr = np.array(spk_train)\n",
    "        idx_spk_train = (spk_train_arr/params['dt']).astype(int)\n",
    "        len_spk_tr.append(len(idx_spk_train))\n",
    "        idx_spk_tr.append(idx_spk_train)\n",
    "    return idx_spk_tr, len_spk_tr\n",
    "\n",
    "\n",
    "def calc_cc(idx_spk_tr, len_spk_tr, params):\n",
    "    import time\n",
    "    from scipy.sparse import csr_matrix, lil_matrix\n",
    "    \n",
    "    timo = time.time()\n",
    "    max_idx = np.max([np.max(i) for i in idx_spk_tr])\n",
    "    num_trains = len(idx_spk_tr)\n",
    "    nstep = int(params['tw'] / params['dt'])\n",
    "    padded = lil_matrix((len(idx_spk_tr),max_idx+2*nstep+1))\n",
    "    ccmat= np.zeros((nstep*2+1,num_trains,num_trains))\n",
    "    for i in range(num_trains):\n",
    "        padded[i,(idx_spk_tr[i]-1+nstep)]=1\n",
    "    padded = csr_matrix(padded)\n",
    "    ref = padded[:,nstep:-(nstep+1)]\n",
    "    \n",
    "    sizes = np.array(len_spk_tr)\n",
    "    sizes = sizes.reshape(len(sizes), 1)\n",
    "    lijs = csr_matrix(sizes.dot(sizes.T))\n",
    "    lijs_sc = (lijs/params['tmax'])*params['dt']\n",
    "    for k in range(nstep*2+1): \n",
    "        ccmat_ = ref.dot(padded[:,k:(max_idx+k)].T)\n",
    "        #sizes = ccmat.sum(axis=0).T\n",
    "        ccmat_ -= lijs_sc\n",
    "        ccmat_ /=  lijs.sqrt()\n",
    "        ccmat[k] = ccmat_\n",
    "    print('cross-corr computed in {:.2f} seconds \\n'.format(time.time()-timo))\n",
    "\n",
    "    return ccmat"
   ]
  },
  {
   "cell_type": "code",
   "execution_count": 39,
   "id": "a31bf14b-611b-4e36-928c-fc526a08a44f",
   "metadata": {},
   "outputs": [],
   "source": [
    "idx_spk_tr, len_spk_tr = format_spike_train(spk_trains)"
   ]
  },
  {
   "cell_type": "code",
   "execution_count": 40,
   "id": "e85114f9-4041-4e21-be02-2b3245c66a88",
   "metadata": {},
   "outputs": [
    {
     "name": "stdout",
     "output_type": "stream",
     "text": [
      "cross-corr computed in 0.79 seconds \n",
      "\n"
     ]
    }
   ],
   "source": [
    "ccmat = calc_cc(idx_spk_tr, len_spk_tr, params)"
   ]
  },
  {
   "cell_type": "markdown",
   "id": "ff007f60-974a-4f8a-9b55-5e8df07da3c7",
   "metadata": {},
   "source": [
    "#### multiprocessing just for fun "
   ]
  },
  {
   "cell_type": "code",
   "execution_count": 41,
   "id": "42c4226d-88e0-44f7-9a14-7c4a990f50c8",
   "metadata": {},
   "outputs": [
    {
     "name": "stdout",
     "output_type": "stream",
     "text": [
      "cross-corr computed in 1.72 seconds \n",
      "cross-corr computed in 1.72 seconds \n",
      "\n",
      "\n",
      "cross-corr computed in 1.74 seconds \n",
      "\n",
      "cross-corr computed in 1.75 seconds \n",
      "cross-corr computed in 1.74 seconds \n",
      "\n",
      "\n",
      "cross-corr computed in 1.75 seconds \n",
      "\n",
      "cross-corr computed in 1.77 seconds \n",
      "\n",
      "cross-corr computed in 1.77 seconds \n",
      "\n",
      "1.82 ended\n"
     ]
    }
   ],
   "source": [
    "from  multiprocess import  Process\n",
    "import time \n",
    "\n",
    "def my_func(idx_spk_tr, len_spk_tr, param, repetitions):\n",
    "    # repeat the funtion calc_cc \"repetitions\" times\n",
    "    \n",
    "    for _ in range(repetitions):\n",
    "        calc_cc(idx_spk_tr, len_spk_tr, param)\n",
    "\n",
    "\n",
    "num_processes = os.cpu_count()\n",
    "repetitions = 1\n",
    "\n",
    "processes = []\n",
    "\n",
    "for i in range(num_processes):\n",
    "    processes.append(Process(target=my_func, args=( idx_spk_tr, len_spk_tr, params, repetitions)))\n",
    "\n",
    "to = time.time()\n",
    "for p in processes:\n",
    "    p.start()\n",
    "\n",
    "for p in processes:\n",
    "    p.join()\n",
    "print('{:.2f} ended'.format(time.time() - to))"
   ]
  },
  {
   "cell_type": "markdown",
   "id": "9cb07e3a-b783-4bd3-a51c-d025d6a51bb4",
   "metadata": {},
   "source": [
    "## Analyze the correlations"
   ]
  },
  {
   "cell_type": "code",
   "execution_count": 12,
   "id": "c9e5ef0e-c11e-42af-bdd2-a5243c89750f",
   "metadata": {},
   "outputs": [],
   "source": [
    "def get_cc_list(ccmat):\n",
    "    num_trains = ccmat.shape[1]\n",
    "    idx_sd = []\n",
    "    idx = np.triu_indices(num_trains, 1)\n",
    "    for idx_src, idx_dst in zip(*idx):\n",
    "        idx_sd.append((idx_src, idx_dst))\n",
    "    cc_lst = []\n",
    "    for k in idx_sd:\n",
    "        i,j  = k\n",
    "        cc_lst.append(ccmat[:,i,j])\n",
    "    return cc_lst, idx_sd"
   ]
  },
  {
   "cell_type": "code",
   "execution_count": 13,
   "id": "03593a1f-5bff-4c6b-bf2f-e87a90992045",
   "metadata": {},
   "outputs": [],
   "source": [
    "cc_lst,  idx_sd = get_cc_list(ccmat)"
   ]
  },
  {
   "cell_type": "code",
   "execution_count": 14,
   "id": "115f7d28-070c-48f9-8e04-47b41b4bdece",
   "metadata": {},
   "outputs": [],
   "source": [
    "# Define some useful functions\n",
    "def get_row_col(id_ch):\n",
    "    \"\"\"Return row and column of channel id_ch.\"\"\"\n",
    "    row = id_ch // 64\n",
    "    col = id_ch % 64    \n",
    "    return row, col\n",
    "\n",
    "def chan_dist(rc_src, rc_dst):\n",
    "    \"\"\"Compute distance between two channels/electrodes.\"\"\"\n",
    "    pitch = 80 # um\n",
    "    d2 = (rc_src[0] - rc_dst[0])**2 + (rc_src[1] - rc_dst[1])**2\n",
    "    d = np.sqrt(d2) * pitch\n",
    "    return d"
   ]
  },
  {
   "cell_type": "code",
   "execution_count": 15,
   "id": "f0eef40f-1fd3-408e-9d9a-f68c3948ffcc",
   "metadata": {},
   "outputs": [],
   "source": [
    "dout = {}\n",
    "keys = ['cc-peak', 'cc-peak-time-lag (ms)', 'distance (um)', 'velocity (mm/s)']\n",
    "for key in keys:\n",
    "    dout[key] = []\n",
    "\n",
    "tcc = np.arange(-params['tw'], params['tw'] + params['dt'], params['dt'])\n",
    "\n",
    "for k, cc in enumerate(cc_lst):\n",
    "    # cc-max\n",
    "    cc_max = np.max(cc)\n",
    "    idx_max = np.argmax(cc)\n",
    "    t_peak = tcc[idx_max]\n",
    "    # distance\n",
    "    idx_src, idx_dst = idx_sd[k]\n",
    "    rc_src = get_row_col(id_ch[idx_src])\n",
    "    rc_dst = get_row_col(id_ch[idx_dst])\n",
    "    dist = chan_dist(rc_src, rc_dst)\n",
    "    # velocity\n",
    "    if t_peak:\n",
    "        vel = dist / t_peak  # um / ms = mm/s\n",
    "    else:\n",
    "        vel = 1e10\n",
    "    # store results\n",
    "    dout['cc-peak'].append(cc_max)\n",
    "    dout['cc-peak-time-lag (ms)'].append(t_peak)\n",
    "    dout['distance (um)'].append(dist)\n",
    "    dout['velocity (mm/s)'].append(abs(vel))"
   ]
  },
  {
   "cell_type": "code",
   "execution_count": 16,
   "id": "e7c87c42-313e-43a8-b0de-d29532aa4ac6",
   "metadata": {},
   "outputs": [
    {
     "data": {
      "text/html": [
       "<div>\n",
       "<style scoped>\n",
       "    .dataframe tbody tr th:only-of-type {\n",
       "        vertical-align: middle;\n",
       "    }\n",
       "\n",
       "    .dataframe tbody tr th {\n",
       "        vertical-align: top;\n",
       "    }\n",
       "\n",
       "    .dataframe thead th {\n",
       "        text-align: right;\n",
       "    }\n",
       "</style>\n",
       "<table border=\"1\" class=\"dataframe\">\n",
       "  <thead>\n",
       "    <tr style=\"text-align: right;\">\n",
       "      <th></th>\n",
       "      <th>cc-peak</th>\n",
       "      <th>cc-peak-time-lag (ms)</th>\n",
       "      <th>distance (um)</th>\n",
       "      <th>velocity (mm/s)</th>\n",
       "    </tr>\n",
       "  </thead>\n",
       "  <tbody>\n",
       "    <tr>\n",
       "      <th>83193</th>\n",
       "      <td>0.393650</td>\n",
       "      <td>0.0</td>\n",
       "      <td>80.000000</td>\n",
       "      <td>1.000000e+10</td>\n",
       "    </tr>\n",
       "    <tr>\n",
       "      <th>303443</th>\n",
       "      <td>0.392940</td>\n",
       "      <td>0.5</td>\n",
       "      <td>80.000000</td>\n",
       "      <td>1.600000e+02</td>\n",
       "    </tr>\n",
       "    <tr>\n",
       "      <th>130770</th>\n",
       "      <td>0.233888</td>\n",
       "      <td>1.5</td>\n",
       "      <td>252.982213</td>\n",
       "      <td>1.686548e+02</td>\n",
       "    </tr>\n",
       "    <tr>\n",
       "      <th>139738</th>\n",
       "      <td>0.232774</td>\n",
       "      <td>-0.5</td>\n",
       "      <td>288.444102</td>\n",
       "      <td>5.768882e+02</td>\n",
       "    </tr>\n",
       "    <tr>\n",
       "      <th>202417</th>\n",
       "      <td>0.134919</td>\n",
       "      <td>0.0</td>\n",
       "      <td>80.000000</td>\n",
       "      <td>1.000000e+10</td>\n",
       "    </tr>\n",
       "    <tr>\n",
       "      <th>44307</th>\n",
       "      <td>0.133154</td>\n",
       "      <td>0.5</td>\n",
       "      <td>288.444102</td>\n",
       "      <td>5.768882e+02</td>\n",
       "    </tr>\n",
       "    <tr>\n",
       "      <th>84551</th>\n",
       "      <td>0.132141</td>\n",
       "      <td>-2.5</td>\n",
       "      <td>4882.622246</td>\n",
       "      <td>1.953049e+03</td>\n",
       "    </tr>\n",
       "    <tr>\n",
       "      <th>202889</th>\n",
       "      <td>0.126756</td>\n",
       "      <td>0.0</td>\n",
       "      <td>80.000000</td>\n",
       "      <td>1.000000e+10</td>\n",
       "    </tr>\n",
       "    <tr>\n",
       "      <th>233440</th>\n",
       "      <td>0.124302</td>\n",
       "      <td>0.0</td>\n",
       "      <td>80.000000</td>\n",
       "      <td>1.000000e+10</td>\n",
       "    </tr>\n",
       "    <tr>\n",
       "      <th>151876</th>\n",
       "      <td>0.123927</td>\n",
       "      <td>0.0</td>\n",
       "      <td>80.000000</td>\n",
       "      <td>1.000000e+10</td>\n",
       "    </tr>\n",
       "    <tr>\n",
       "      <th>225636</th>\n",
       "      <td>0.118163</td>\n",
       "      <td>0.0</td>\n",
       "      <td>80.000000</td>\n",
       "      <td>1.000000e+10</td>\n",
       "    </tr>\n",
       "    <tr>\n",
       "      <th>217448</th>\n",
       "      <td>0.116477</td>\n",
       "      <td>0.0</td>\n",
       "      <td>80.000000</td>\n",
       "      <td>1.000000e+10</td>\n",
       "    </tr>\n",
       "    <tr>\n",
       "      <th>211211</th>\n",
       "      <td>0.112661</td>\n",
       "      <td>0.0</td>\n",
       "      <td>80.000000</td>\n",
       "      <td>1.000000e+10</td>\n",
       "    </tr>\n",
       "    <tr>\n",
       "      <th>217465</th>\n",
       "      <td>0.109524</td>\n",
       "      <td>0.0</td>\n",
       "      <td>80.000000</td>\n",
       "      <td>1.000000e+10</td>\n",
       "    </tr>\n",
       "    <tr>\n",
       "      <th>55209</th>\n",
       "      <td>0.108364</td>\n",
       "      <td>-0.5</td>\n",
       "      <td>160.000000</td>\n",
       "      <td>3.200000e+02</td>\n",
       "    </tr>\n",
       "    <tr>\n",
       "      <th>225236</th>\n",
       "      <td>0.100645</td>\n",
       "      <td>0.0</td>\n",
       "      <td>252.982213</td>\n",
       "      <td>1.000000e+10</td>\n",
       "    </tr>\n",
       "    <tr>\n",
       "      <th>232230</th>\n",
       "      <td>0.100267</td>\n",
       "      <td>0.0</td>\n",
       "      <td>80.000000</td>\n",
       "      <td>1.000000e+10</td>\n",
       "    </tr>\n",
       "    <tr>\n",
       "      <th>146187</th>\n",
       "      <td>0.100196</td>\n",
       "      <td>-0.5</td>\n",
       "      <td>329.848450</td>\n",
       "      <td>6.596969e+02</td>\n",
       "    </tr>\n",
       "    <tr>\n",
       "      <th>44320</th>\n",
       "      <td>0.100014</td>\n",
       "      <td>1.0</td>\n",
       "      <td>339.411255</td>\n",
       "      <td>3.394113e+02</td>\n",
       "    </tr>\n",
       "    <tr>\n",
       "      <th>31679</th>\n",
       "      <td>0.098955</td>\n",
       "      <td>-2.0</td>\n",
       "      <td>226.274170</td>\n",
       "      <td>1.131371e+02</td>\n",
       "    </tr>\n",
       "  </tbody>\n",
       "</table>\n",
       "</div>"
      ],
      "text/plain": [
       "         cc-peak  cc-peak-time-lag (ms)  distance (um)  velocity (mm/s)\n",
       "83193   0.393650                    0.0      80.000000     1.000000e+10\n",
       "303443  0.392940                    0.5      80.000000     1.600000e+02\n",
       "130770  0.233888                    1.5     252.982213     1.686548e+02\n",
       "139738  0.232774                   -0.5     288.444102     5.768882e+02\n",
       "202417  0.134919                    0.0      80.000000     1.000000e+10\n",
       "44307   0.133154                    0.5     288.444102     5.768882e+02\n",
       "84551   0.132141                   -2.5    4882.622246     1.953049e+03\n",
       "202889  0.126756                    0.0      80.000000     1.000000e+10\n",
       "233440  0.124302                    0.0      80.000000     1.000000e+10\n",
       "151876  0.123927                    0.0      80.000000     1.000000e+10\n",
       "225636  0.118163                    0.0      80.000000     1.000000e+10\n",
       "217448  0.116477                    0.0      80.000000     1.000000e+10\n",
       "211211  0.112661                    0.0      80.000000     1.000000e+10\n",
       "217465  0.109524                    0.0      80.000000     1.000000e+10\n",
       "55209   0.108364                   -0.5     160.000000     3.200000e+02\n",
       "225236  0.100645                    0.0     252.982213     1.000000e+10\n",
       "232230  0.100267                    0.0      80.000000     1.000000e+10\n",
       "146187  0.100196                   -0.5     329.848450     6.596969e+02\n",
       "44320   0.100014                    1.0     339.411255     3.394113e+02\n",
       "31679   0.098955                   -2.0     226.274170     1.131371e+02"
      ]
     },
     "execution_count": 16,
     "metadata": {},
     "output_type": "execute_result"
    }
   ],
   "source": [
    "# define data frame and rank it based on the spike cross-correlation values (from highest to lowest)\n",
    "import pandas as pd\n",
    "df = pd.DataFrame(dout)\n",
    "df.sort_values('cc-peak', ascending=False, inplace=True)\n",
    "df.head(n=20)"
   ]
  },
  {
   "cell_type": "code",
   "execution_count": null,
   "id": "4e6fdb3e-f510-4a3a-b057-77d081e0b026",
   "metadata": {},
   "outputs": [],
   "source": []
  }
 ],
 "metadata": {
  "kernelspec": {
   "display_name": "cobra_fede",
   "language": "python",
   "name": "cobra_fede"
  },
  "language_info": {
   "codemirror_mode": {
    "name": "ipython",
    "version": 3
   },
   "file_extension": ".py",
   "mimetype": "text/x-python",
   "name": "python",
   "nbconvert_exporter": "python",
   "pygments_lexer": "ipython3",
   "version": "3.10.11"
  }
 },
 "nbformat": 4,
 "nbformat_minor": 5
}
